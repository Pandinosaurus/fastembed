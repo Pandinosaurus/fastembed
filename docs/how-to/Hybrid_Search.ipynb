{
 "cells": [
  {
   "cell_type": "markdown",
   "metadata": {},
   "source": [
    "# Hybrid Search with FastEmbed & Qdrant\n",
    "\n"
   ]
  },
  {
   "cell_type": "markdown",
   "metadata": {},
   "source": [
    "## What will we do?\n",
    "This notebook demonstrates the usage of Hybrid Search with FastEmbed & Qdrant. \n",
    "\n",
    "1. Setup: Download and install the required dependencies\n",
    "2. Preview data: Load and preview the data\n",
    "3. Create Sparse Embeddings: Create SPLADE++ embeddings for the data\n",
    "4. Create Dense Embeddings: Create BGE-Base-en-v1.5 embeddings for the data\n",
    "5. Indexing: Index the embeddings using Qdrant\n",
    "6. Search: Perform Hybrid Search using FastEmbed & Qdrant\n",
    "\n",
    "## Setup\n",
    "\n",
    "In order to get started, you need only two dependencies, and we'll install them next:"
   ]
  },
  {
   "cell_type": "code",
   "execution_count": 1,
   "metadata": {},
   "outputs": [],
   "source": [
    "# !pip install -qU qdrant-client fastembed datasets transformers"
   ]
  },
  {
   "cell_type": "code",
   "execution_count": 2,
   "metadata": {},
   "outputs": [
    {
     "data": {
      "text/plain": [
       "'0.2.5'"
      ]
     },
     "execution_count": 2,
     "metadata": {},
     "output_type": "execute_result"
    }
   ],
   "source": [
    "import json\n",
    "from typing import List\n",
    "\n",
    "import numpy as np\n",
    "import pandas as pd\n",
    "from datasets import load_dataset\n",
    "from qdrant_client import QdrantClient\n",
    "from qdrant_client.http.models import (\n",
    "    Distance,\n",
    "    NamedSparseVector,\n",
    "    NamedVector,\n",
    "    SparseVector,\n",
    "    PointStruct,\n",
    "    SearchRequest,\n",
    "    SparseIndexParams,\n",
    "    SparseVectorParams,\n",
    "    VectorParams,\n",
    ")\n",
    "from transformers import AutoTokenizer\n",
    "\n",
    "import fastembed\n",
    "from fastembed.sparse.sparse_text_embedding import SparseEmbedding, SparseTextEmbedding\n",
    "from fastembed.text.text_embedding import TextEmbedding\n",
    "\n",
    "fastembed.__version__"
   ]
  },
  {
   "cell_type": "code",
   "execution_count": 3,
   "metadata": {},
   "outputs": [
    {
     "data": {
      "text/plain": [
       "Dataset({\n",
       "    features: ['example_id', 'query', 'query_id', 'product_id', 'product_locale', 'esci_label', 'small_version', 'large_version', 'product_title', 'product_description', 'product_bullet_point', 'product_brand', 'product_color', 'product_text'],\n",
       "    num_rows: 919\n",
       "})"
      ]
     },
     "execution_count": 3,
     "metadata": {},
     "output_type": "execute_result"
    }
   ],
   "source": [
    "dataset = load_dataset(\"tasksource/esci\")\n",
    "# We'll select the first 1000 examples for this demo\n",
    "dataset = dataset[\"train\"].select(range(1000))\n",
    "dataset = dataset.filter(lambda x: x['product_locale'] == \"us\")\n",
    "dataset"
   ]
  },
  {
   "cell_type": "markdown",
   "metadata": {},
   "source": [
    "## Preview Data"
   ]
  },
  {
   "cell_type": "code",
   "execution_count": 4,
   "metadata": {},
   "outputs": [
    {
     "data": {
      "text/html": [
       "<div>\n",
       "<style scoped>\n",
       "    .dataframe tbody tr th:only-of-type {\n",
       "        vertical-align: middle;\n",
       "    }\n",
       "\n",
       "    .dataframe tbody tr th {\n",
       "        vertical-align: top;\n",
       "    }\n",
       "\n",
       "    .dataframe thead th {\n",
       "        text-align: right;\n",
       "    }\n",
       "</style>\n",
       "<table border=\"1\" class=\"dataframe\">\n",
       "  <thead>\n",
       "    <tr style=\"text-align: right;\">\n",
       "      <th></th>\n",
       "      <th>example_id</th>\n",
       "      <th>query</th>\n",
       "      <th>query_id</th>\n",
       "      <th>product_id</th>\n",
       "      <th>product_locale</th>\n",
       "      <th>esci_label</th>\n",
       "      <th>small_version</th>\n",
       "      <th>large_version</th>\n",
       "      <th>product_title</th>\n",
       "      <th>product_description</th>\n",
       "      <th>product_bullet_point</th>\n",
       "      <th>product_brand</th>\n",
       "      <th>product_color</th>\n",
       "      <th>product_text</th>\n",
       "    </tr>\n",
       "  </thead>\n",
       "  <tbody>\n",
       "    <tr>\n",
       "      <th>0</th>\n",
       "      <td>0</td>\n",
       "      <td>revent 80 cfm</td>\n",
       "      <td>0</td>\n",
       "      <td>B000MOO21W</td>\n",
       "      <td>us</td>\n",
       "      <td>Irrelevant</td>\n",
       "      <td>0</td>\n",
       "      <td>1</td>\n",
       "      <td>Panasonic FV-20VQ3 WhisperCeiling 190 CFM Ceil...</td>\n",
       "      <td>None</td>\n",
       "      <td>WhisperCeiling fans feature a totally enclosed...</td>\n",
       "      <td>Panasonic</td>\n",
       "      <td>White</td>\n",
       "      <td>Panasonic FV-20VQ3 WhisperCeiling 190 CFM Ceil...</td>\n",
       "    </tr>\n",
       "    <tr>\n",
       "      <th>2</th>\n",
       "      <td>1</td>\n",
       "      <td>revent 80 cfm</td>\n",
       "      <td>0</td>\n",
       "      <td>B07X3Y6B1V</td>\n",
       "      <td>us</td>\n",
       "      <td>Exact</td>\n",
       "      <td>0</td>\n",
       "      <td>1</td>\n",
       "      <td>Homewerks 7141-80 Bathroom Fan Integrated LED ...</td>\n",
       "      <td>None</td>\n",
       "      <td>OUTSTANDING PERFORMANCE: This Homewerk's bath ...</td>\n",
       "      <td>Homewerks</td>\n",
       "      <td>80 CFM</td>\n",
       "      <td>Homewerks 7141-80 Bathroom Fan Integrated LED ...</td>\n",
       "    </tr>\n",
       "    <tr>\n",
       "      <th>3</th>\n",
       "      <td>2</td>\n",
       "      <td>revent 80 cfm</td>\n",
       "      <td>0</td>\n",
       "      <td>B07WDM7MQQ</td>\n",
       "      <td>us</td>\n",
       "      <td>Exact</td>\n",
       "      <td>0</td>\n",
       "      <td>1</td>\n",
       "      <td>Homewerks 7140-80 Bathroom Fan Ceiling Mount E...</td>\n",
       "      <td>None</td>\n",
       "      <td>OUTSTANDING PERFORMANCE: This Homewerk's bath ...</td>\n",
       "      <td>Homewerks</td>\n",
       "      <td>White</td>\n",
       "      <td>Homewerks 7140-80 Bathroom Fan Ceiling Mount E...</td>\n",
       "    </tr>\n",
       "    <tr>\n",
       "      <th>4</th>\n",
       "      <td>3</td>\n",
       "      <td>revent 80 cfm</td>\n",
       "      <td>0</td>\n",
       "      <td>B07RH6Z8KW</td>\n",
       "      <td>us</td>\n",
       "      <td>Exact</td>\n",
       "      <td>0</td>\n",
       "      <td>1</td>\n",
       "      <td>Delta Electronics RAD80L BreezRadiance 80 CFM ...</td>\n",
       "      <td>This pre-owned or refurbished product has been...</td>\n",
       "      <td>Quiet operation at 1.5 sones\\nBuilt-in thermos...</td>\n",
       "      <td>DELTA ELECTRONICS (AMERICAS) LTD.</td>\n",
       "      <td>White</td>\n",
       "      <td>Delta Electronics RAD80L BreezRadiance 80 CFM ...</td>\n",
       "    </tr>\n",
       "    <tr>\n",
       "      <th>5</th>\n",
       "      <td>4</td>\n",
       "      <td>revent 80 cfm</td>\n",
       "      <td>0</td>\n",
       "      <td>B07QJ7WYFQ</td>\n",
       "      <td>us</td>\n",
       "      <td>Exact</td>\n",
       "      <td>0</td>\n",
       "      <td>1</td>\n",
       "      <td>Panasonic FV-08VRE2 Ventilation Fan with Reces...</td>\n",
       "      <td>None</td>\n",
       "      <td>The design solution for Fan/light combinations...</td>\n",
       "      <td>Panasonic</td>\n",
       "      <td>White</td>\n",
       "      <td>Panasonic FV-08VRE2 Ventilation Fan with Reces...</td>\n",
       "    </tr>\n",
       "  </tbody>\n",
       "</table>\n",
       "</div>"
      ],
      "text/plain": [
       "   example_id           query  query_id  product_id product_locale  \\\n",
       "0           0   revent 80 cfm         0  B000MOO21W             us   \n",
       "2           1   revent 80 cfm         0  B07X3Y6B1V             us   \n",
       "3           2   revent 80 cfm         0  B07WDM7MQQ             us   \n",
       "4           3   revent 80 cfm         0  B07RH6Z8KW             us   \n",
       "5           4   revent 80 cfm         0  B07QJ7WYFQ             us   \n",
       "\n",
       "   esci_label  small_version  large_version  \\\n",
       "0  Irrelevant              0              1   \n",
       "2       Exact              0              1   \n",
       "3       Exact              0              1   \n",
       "4       Exact              0              1   \n",
       "5       Exact              0              1   \n",
       "\n",
       "                                       product_title  \\\n",
       "0  Panasonic FV-20VQ3 WhisperCeiling 190 CFM Ceil...   \n",
       "2  Homewerks 7141-80 Bathroom Fan Integrated LED ...   \n",
       "3  Homewerks 7140-80 Bathroom Fan Ceiling Mount E...   \n",
       "4  Delta Electronics RAD80L BreezRadiance 80 CFM ...   \n",
       "5  Panasonic FV-08VRE2 Ventilation Fan with Reces...   \n",
       "\n",
       "                                 product_description  \\\n",
       "0                                               None   \n",
       "2                                               None   \n",
       "3                                               None   \n",
       "4  This pre-owned or refurbished product has been...   \n",
       "5                                               None   \n",
       "\n",
       "                                product_bullet_point  \\\n",
       "0  WhisperCeiling fans feature a totally enclosed...   \n",
       "2  OUTSTANDING PERFORMANCE: This Homewerk's bath ...   \n",
       "3  OUTSTANDING PERFORMANCE: This Homewerk's bath ...   \n",
       "4  Quiet operation at 1.5 sones\\nBuilt-in thermos...   \n",
       "5  The design solution for Fan/light combinations...   \n",
       "\n",
       "                       product_brand product_color  \\\n",
       "0                          Panasonic         White   \n",
       "2                          Homewerks        80 CFM   \n",
       "3                          Homewerks         White   \n",
       "4  DELTA ELECTRONICS (AMERICAS) LTD.         White   \n",
       "5                          Panasonic         White   \n",
       "\n",
       "                                        product_text  \n",
       "0  Panasonic FV-20VQ3 WhisperCeiling 190 CFM Ceil...  \n",
       "2  Homewerks 7141-80 Bathroom Fan Integrated LED ...  \n",
       "3  Homewerks 7140-80 Bathroom Fan Ceiling Mount E...  \n",
       "4  Delta Electronics RAD80L BreezRadiance 80 CFM ...  \n",
       "5  Panasonic FV-08VRE2 Ventilation Fan with Reces...  "
      ]
     },
     "execution_count": 4,
     "metadata": {},
     "output_type": "execute_result"
    }
   ],
   "source": [
    "source_df = dataset.to_pandas()\n",
    "df = source_df.drop_duplicates(subset=[\"product_text\", \"product_title\", \"product_bullet_point\", \"product_brand\"])\n",
    "df = df.dropna(subset=[\"product_text\", \"product_title\", \"product_bullet_point\", \"product_brand\"])\n",
    "df.head()"
   ]
  },
  {
   "cell_type": "code",
   "execution_count": 5,
   "metadata": {},
   "outputs": [
    {
     "name": "stdout",
     "output_type": "stream",
     "text": [
      "Catalog Item Count: 176\n",
      "Queries: 919\n"
     ]
    }
   ],
   "source": [
    "print(f\"Catalog Item Count: {len(df)}\\nQueries: {len(source_df)}\")"
   ]
  },
  {
   "cell_type": "code",
   "execution_count": 6,
   "metadata": {},
   "outputs": [],
   "source": [
    "df[\"combined_text\"] = df[\"product_title\"] + \"\\n\" + df[\"product_text\"] + \"\\n\" + df[\"product_bullet_point\"]"
   ]
  },
  {
   "cell_type": "code",
   "execution_count": 7,
   "metadata": {},
   "outputs": [
    {
     "data": {
      "text/plain": [
       "176"
      ]
     },
     "execution_count": 7,
     "metadata": {},
     "output_type": "execute_result"
    }
   ],
   "source": [
    "len(df)"
   ]
  },
  {
   "cell_type": "markdown",
   "metadata": {},
   "source": [
    "## Create Sparse Embeddings"
   ]
  },
  {
   "cell_type": "code",
   "execution_count": 8,
   "metadata": {},
   "outputs": [
    {
     "data": {
      "application/vnd.jupyter.widget-view+json": {
       "model_id": "e0432a19066144718055687feed872d7",
       "version_major": 2,
       "version_minor": 0
      },
      "text/plain": [
       "Fetching 9 files:   0%|          | 0/9 [00:00<?, ?it/s]"
      ]
     },
     "metadata": {},
     "output_type": "display_data"
    },
    {
     "data": {
      "application/vnd.jupyter.widget-view+json": {
       "model_id": "3f1c81d9159346b6b4ba90d5f4d44356",
       "version_major": 2,
       "version_minor": 0
      },
      "text/plain": [
       "Fetching 7 files:   0%|          | 0/7 [00:00<?, ?it/s]"
      ]
     },
     "metadata": {},
     "output_type": "display_data"
    }
   ],
   "source": [
    "sparse_model_name = \"prithvida/Splade_PP_en_v1\"\n",
    "dense_model_name = \"BAAI/bge-large-en-v1.5\"\n",
    "# This triggers the model download\n",
    "sparse_model = SparseTextEmbedding(model_name=sparse_model_name, batch_size=32)\n",
    "dense_model = TextEmbedding(model_name=dense_model_name, batch_size=32)"
   ]
  },
  {
   "cell_type": "code",
   "execution_count": 9,
   "metadata": {},
   "outputs": [
    {
     "data": {
      "text/plain": [
       "[SparseEmbedding(values=array([0.17295611, 0.80484658, 0.41356239, 0.38512513, 0.90825951,\n",
       "        0.61373132, 0.18313883, 0.18546289, 0.04257777, 1.20476401,\n",
       "        1.48403311, 0.17008089, 0.06487759, 0.16780744, 0.23214206,\n",
       "        2.5722568 , 1.87174428, 0.2541669 , 0.20749982, 0.16315481,\n",
       "        0.70712435, 0.26381177, 0.49152234, 0.67282563, 0.19267203,\n",
       "        0.29127747, 0.09682107, 1.21251154, 0.19741221, 0.44512141,\n",
       "        0.44369081, 0.21676107, 0.36704862, 0.06706504, 1.97674787,\n",
       "        0.00856015, 0.51626593, 0.21145488, 0.09790635, 0.26357391,\n",
       "        1.6925323 , 2.10766435, 0.05584541, 0.05150893, 0.24062614,\n",
       "        0.90479541, 0.1198509 , 0.10030396]), indices=array([ 1037,  2003,  2005,  2190,  2204,  2307,  2338,  2497,  2565,\n",
       "         2793,  3075,  3177,  3274,  3286,  3430,  3435,  3793,  3819,\n",
       "         3835,  3989,  4007,  4118,  4248,  4289,  4294,  4322,  4434,\n",
       "         4667,  4773,  5080,  5371,  5527,  6028,  6581,  6633,  6919,\n",
       "         6981,  6994,  7809,  7812,  7861,  8270,  9262,  9896, 10472,\n",
       "        13850, 16602, 23924]))]"
      ]
     },
     "execution_count": 9,
     "metadata": {},
     "output_type": "execute_result"
    }
   ],
   "source": [
    "def make_sparse_embedding(texts: List[str]):\n",
    "    return list(sparse_model.embed(texts))\n",
    "\n",
    "\n",
    "sparse_embedding: List[SparseEmbedding] = make_sparse_embedding(\"Fastembed is a great library for text embeddings!\")\n",
    "sparse_embedding"
   ]
  },
  {
   "cell_type": "markdown",
   "metadata": {},
   "source": [
    "The previous output is a SparseEmbedding object for the first document in our list.\n",
    "\n",
    "It contains two arrays: values and indices. \n",
    "- The 'values' array represents the weights of the features (tokens) in the document.\n",
    "- The 'indices' array represents the indices of these features in the model's vocabulary.\n",
    "\n",
    "Each pair of corresponding values and indices represents a token and its weight in the document."
   ]
  },
  {
   "cell_type": "markdown",
   "metadata": {},
   "source": [
    "This is still a little abstract, so let's use the tokenizer vocab to make sense of these indices."
   ]
  },
  {
   "cell_type": "code",
   "execution_count": 10,
   "metadata": {},
   "outputs": [
    {
     "data": {
      "text/plain": [
       "[{'model': 'prithvida/Splade_PP_en_v1',\n",
       "  'vocab_size': 30522,\n",
       "  'description': 'Independent Implementation of SPLADE++ Model for English',\n",
       "  'size_in_GB': 0.532,\n",
       "  'sources': {'hf': 'Qdrant/SPLADE_PP_en_v1'}}]"
      ]
     },
     "execution_count": 10,
     "metadata": {},
     "output_type": "execute_result"
    }
   ],
   "source": [
    "SparseTextEmbedding.list_supported_models()"
   ]
  },
  {
   "cell_type": "code",
   "execution_count": 11,
   "metadata": {},
   "outputs": [
    {
     "name": "stdout",
     "output_type": "stream",
     "text": [
      "{\n",
      "    \"fast\": 2.5722568035125732,\n",
      "    \"##bed\": 2.1076643466949463,\n",
      "    \"##em\": 1.9767478704452515,\n",
      "    \"text\": 1.8717442750930786,\n",
      "    \"em\": 1.6925323009490967,\n",
      "    \"library\": 1.4840331077575684,\n",
      "    \"##ding\": 1.2125115394592285,\n",
      "    \"bed\": 1.2047640085220337,\n",
      "    \"good\": 0.9082595109939575,\n",
      "    \"librarian\": 0.9047954082489014,\n",
      "    \"is\": 0.8048465847969055,\n",
      "    \"software\": 0.7071243524551392,\n",
      "    \"format\": 0.6728256344795227,\n",
      "    \"great\": 0.613731324672699,\n",
      "    \"texts\": 0.5162659287452698,\n",
      "    \"quick\": 0.49152234196662903,\n",
      "    \"device\": 0.4451214075088501,\n",
      "    \"file\": 0.44369080662727356,\n",
      "    \"for\": 0.4135623872280121,\n",
      "    \"best\": 0.38512513041496277,\n",
      "    \"technique\": 0.36704862117767334,\n",
      "    \"facility\": 0.2912774682044983,\n",
      "    \"method\": 0.26381176710128784,\n",
      "    \"ideal\": 0.26357391476631165,\n",
      "    \"perfect\": 0.2541669011116028,\n",
      "    \"##bing\": 0.24062614142894745,\n",
      "    \"material\": 0.23214206099510193,\n",
      "    \"storage\": 0.21676106750965118,\n",
      "    \"tool\": 0.21145488321781158,\n",
      "    \"nice\": 0.20749981701374054,\n",
      "    \"web\": 0.19741220772266388,\n",
      "    \"architecture\": 0.1926720291376114,\n",
      "    \"##b\": 0.18546289205551147,\n",
      "    \"book\": 0.18313883244991302,\n",
      "    \"a\": 0.17295610904693604,\n",
      "    \"speed\": 0.17008088529109955,\n",
      "    \"##am\": 0.1678074449300766,\n",
      "    \"##ization\": 0.16315481066703796,\n",
      "    \"browser\": 0.11985089629888535,\n",
      "    \"##ogen\": 0.10030396282672882,\n",
      "    \"database\": 0.09790635108947754,\n",
      "    \"connection\": 0.09682106971740723,\n",
      "    \"excellent\": 0.0670650377869606,\n",
      "    \"computer\": 0.06487759202718735,\n",
      "    \"java\": 0.055845409631729126,\n",
      "    \"algorithm\": 0.051508933305740356,\n",
      "    \"program\": 0.04257776960730553,\n",
      "    \"wonderful\": 0.00856015458703041\n",
      "}\n"
     ]
    }
   ],
   "source": [
    "def get_tokens_and_weights(sparse_embedding, model_name):\n",
    "    # Find the tokenizer for the model\n",
    "    for models in SparseTextEmbedding.list_supported_models():\n",
    "        if models[\"model\"] == model_name:\n",
    "            tokenizer_source = models[\"sources\"][\"hf\"]\n",
    "    tokenizer = AutoTokenizer.from_pretrained(tokenizer_source)\n",
    "    token_weight_dict = {}\n",
    "    for i in range(len(sparse_embedding.indices)):\n",
    "        token = tokenizer.decode([sparse_embedding.indices[i]])\n",
    "        weight = sparse_embedding.values[i]\n",
    "        token_weight_dict[token] = weight\n",
    "\n",
    "    # Sort the dictionary by weights\n",
    "    token_weight_dict = dict(sorted(token_weight_dict.items(), key=lambda item: item[1], reverse=True))\n",
    "    return token_weight_dict\n",
    "\n",
    "\n",
    "# Test the function with the first SparseEmbedding\n",
    "print(json.dumps(get_tokens_and_weights(sparse_embedding[0], sparse_model_name), indent=4))"
   ]
  },
  {
   "cell_type": "markdown",
   "metadata": {},
   "source": [
    "## Create Dense Embeddings"
   ]
  },
  {
   "cell_type": "code",
   "execution_count": 12,
   "metadata": {},
   "outputs": [],
   "source": [
    "def make_dense_embedding(texts: List[str]):\n",
    "    return list(dense_model.embed(texts))\n",
    "\n",
    "\n",
    "dense_embedding = make_dense_embedding(\"Fastembed is a great library for text embeddings!\")"
   ]
  },
  {
   "cell_type": "code",
   "execution_count": 13,
   "metadata": {},
   "outputs": [
    {
     "data": {
      "text/plain": [
       "(1024,)"
      ]
     },
     "execution_count": 13,
     "metadata": {},
     "output_type": "execute_result"
    }
   ],
   "source": [
    "dense_embedding[0].shape"
   ]
  },
  {
   "cell_type": "code",
   "execution_count": 14,
   "metadata": {},
   "outputs": [],
   "source": [
    "product_texts = df[\"combined_text\"].tolist()"
   ]
  },
  {
   "cell_type": "code",
   "execution_count": 15,
   "metadata": {},
   "outputs": [
    {
     "data": {
      "text/plain": [
       "[]"
      ]
     },
     "execution_count": 15,
     "metadata": {},
     "output_type": "execute_result"
    }
   ],
   "source": [
    "[x for x in product_texts if not isinstance(x, str)]"
   ]
  },
  {
   "cell_type": "code",
   "execution_count": 16,
   "metadata": {},
   "outputs": [
    {
     "name": "stdout",
     "output_type": "stream",
     "text": [
      "CPU times: user 4min 42s, sys: 25.2 s, total: 5min 7s\n",
      "Wall time: 2min 13s\n"
     ]
    }
   ],
   "source": [
    "%%time\n",
    "df[\"sparse_embedding\"] = make_sparse_embedding(product_texts)"
   ]
  },
  {
   "cell_type": "code",
   "execution_count": 17,
   "metadata": {},
   "outputs": [
    {
     "data": {
      "text/plain": [
       "0      SparseEmbedding(values=array([0.06509431, 0.57...\n",
       "2      SparseEmbedding(values=array([0.10595927, 0.20...\n",
       "3      SparseEmbedding(values=array([0.1140037 , 0.02...\n",
       "4      SparseEmbedding(values=array([6.13510251e-01, ...\n",
       "5      SparseEmbedding(values=array([0.90058267, 0.12...\n",
       "                             ...                        \n",
       "780    SparseEmbedding(values=array([5.56782305e-01, ...\n",
       "809    SparseEmbedding(values=array([0.38585788, 0.44...\n",
       "828    SparseEmbedding(values=array([3.27695787e-01, ...\n",
       "867    SparseEmbedding(values=array([0.36255798, 0.74...\n",
       "870    SparseEmbedding(values=array([3.74321818e-01, ...\n",
       "Name: sparse_embedding, Length: 176, dtype: object"
      ]
     },
     "execution_count": 17,
     "metadata": {},
     "output_type": "execute_result"
    }
   ],
   "source": [
    "df[\"sparse_embedding\"]"
   ]
  },
  {
   "cell_type": "code",
   "execution_count": 18,
   "metadata": {},
   "outputs": [
    {
     "name": "stdout",
     "output_type": "stream",
     "text": [
      "CPU times: user 12min 3s, sys: 2.67 s, total: 12min 6s\n",
      "Wall time: 2min 5s\n"
     ]
    }
   ],
   "source": [
    "%%time\n",
    "df[\"dense_embedding\"] = make_dense_embedding(product_texts)"
   ]
  },
  {
   "cell_type": "markdown",
   "metadata": {},
   "source": [
    "## Indexing"
   ]
  },
  {
   "cell_type": "code",
   "execution_count": 19,
   "metadata": {},
   "outputs": [],
   "source": [
    "client = QdrantClient(\":memory:\")"
   ]
  },
  {
   "cell_type": "code",
   "execution_count": 20,
   "metadata": {},
   "outputs": [
    {
     "data": {
      "text/plain": [
       "True"
      ]
     },
     "execution_count": 20,
     "metadata": {},
     "output_type": "execute_result"
    }
   ],
   "source": [
    "collection_name = \"esci\"\n",
    "client.create_collection(\n",
    "    collection_name,\n",
    "    vectors_config={\n",
    "        \"text-dense\": VectorParams(\n",
    "            size=1024,  # OpenAI Embeddings\n",
    "            distance=Distance.COSINE,\n",
    "        )\n",
    "    },\n",
    "    sparse_vectors_config={\n",
    "        \"text-sparse\": SparseVectorParams(\n",
    "            index=SparseIndexParams(\n",
    "                on_disk=False,\n",
    "            )\n",
    "        )\n",
    "    },\n",
    ")"
   ]
  },
  {
   "cell_type": "code",
   "execution_count": 21,
   "metadata": {},
   "outputs": [
    {
     "data": {
      "text/plain": [
       "SparseVector(indices=[1, 2, 3], values=[0.1, 0.2, 0.3])"
      ]
     },
     "execution_count": 21,
     "metadata": {},
     "output_type": "execute_result"
    }
   ],
   "source": [
    "SparseVector(indices=[1, 2, 3], values=[0.1, 0.2, 0.3])"
   ]
  },
  {
   "cell_type": "code",
   "execution_count": 22,
   "metadata": {},
   "outputs": [],
   "source": [
    "def make_points(df: pd.DataFrame)-> List[PointStruct]:\n",
    "    sparse_vectors = df[\"sparse_embedding\"].tolist()\n",
    "    product_texts = df[\"combined_text\"].tolist()\n",
    "    dense_vectors = df[\"dense_embedding\"].tolist()\n",
    "    points = []\n",
    "    for idx, (text, sparse_vector, dense_vector) in enumerate(zip(product_texts, sparse_vectors, dense_vectors)):\n",
    "        # print(sparse_vector)\n",
    "        sparse_vector = SparseVector(indices=sparse_vector.indices.tolist(), values=sparse_vector.values.tolist())\n",
    "        point = PointStruct(\n",
    "            id=idx,\n",
    "            payload={\"text\": text},  # Add any additional payload if necessary\n",
    "            vector={\n",
    "                \"text-sparse\": sparse_vector,\n",
    "                \"text-dense\": dense_vector.tolist(),\n",
    "            },\n",
    "        )\n",
    "        points.append(point)\n",
    "    return points\n",
    "\n",
    "\n",
    "points: List[PointStruct] = make_points(df)"
   ]
  },
  {
   "cell_type": "code",
   "execution_count": 23,
   "metadata": {},
   "outputs": [
    {
     "data": {
      "text/plain": [
       "UpdateResult(operation_id=0, status=<UpdateStatus.COMPLETED: 'completed'>)"
      ]
     },
     "execution_count": 23,
     "metadata": {},
     "output_type": "execute_result"
    }
   ],
   "source": [
    "client.upsert(collection_name, points)"
   ]
  },
  {
   "cell_type": "code",
   "execution_count": 24,
   "metadata": {},
   "outputs": [
    {
     "data": {
      "text/plain": [
       "[[ScoredPoint(id=0, version=0, score=0.7569294929688511, payload={'text': 'Panasonic FV-20VQ3 WhisperCeiling 190 CFM Ceiling Mounted Fan\\nPanasonic FV-20VQ3 WhisperCeiling 190 CFM Ceiling Mounted Fan\\nPanasonic\\nWhite\\nNone\\nWhisperCeiling fans feature a totally enclosed condenser motor and a double-tapered, dolphin-shaped bladed blower wheel to quietly move air\\nDesigned to give you continuous, trouble-free operation for many years thanks in part to its high-quality components and permanently lubricated motors which wear at a slower pace\\nDetachable adaptors, firmly secured duct ends, adjustable mounting brackets (up to 26-in), fan/motor units that detach easily from the housing and uncomplicated wiring all lend themselves to user-friendly installation\\nThis Panasonic fan has a built-in damper to prevent backdraft, which helps to prevent outside air from coming through the fan\\n0.35 amp\\nWhisperCeiling fans feature a totally enclosed condenser motor and a double-tapered, dolphin-shaped bladed blower wheel to quietly move air\\nDesigned to give you continuous, trouble-free operation for many years thanks in part to its high-quality components and permanently lubricated motors which wear at a slower pace\\nDetachable adaptors, firmly secured duct ends, adjustable mounting brackets (up to 26-in), fan/motor units that detach easily from the housing and uncomplicated wiring all lend themselves to user-friendly installation\\nThis Panasonic fan has a built-in damper to prevent backdraft, which helps to prevent outside air from coming through the fan\\n0.35 amp'}, vector=None, shard_key=None),\n",
       "  ScoredPoint(id=11, version=0, score=0.7182552708165841, payload={'text': 'Panasonic FV-0811VF5 WhisperFit EZ Retrofit Ventilation Fan, 80 or 110 CFM\\nPanasonic FV-0811VF5 WhisperFit EZ Retrofit Ventilation Fan, 80 or 110 CFM\\nPanasonic\\nWhite\\nNone\\nRetrofit Solution: Ideal for residential remodeling, hotel construction or renovations\\nLow Profile: 5-5/8-Inch housing depth fits in a 2 x 6 construction\\nPick-A-Flow Speed Selector: Allows you to pick desired airflow from 80 or 110 CFM\\nFlexible Installation: Comes with Flex-Z Fast bracket for easy, fast and trouble-free installation\\nEnergy Star Rated: Delivers powerful airflow without wasting energy\\nRetrofit Solution: Ideal for residential remodeling, hotel construction or renovations\\nLow Profile: 5-5/8-Inch housing depth fits in a 2 x 6 construction\\nPick-A-Flow Speed Selector: Allows you to pick desired airflow from 80 or 110 CFM\\nFlexible Installation: Comes with Flex-Z Fast bracket for easy, fast and trouble-free installation\\nEnergy Star Rated: Delivers powerful airflow without wasting energy'}, vector=None, shard_key=None),\n",
       "  ScoredPoint(id=7, version=0, score=0.7113100728799315, payload={'text': 'Panasonic FV-0510VS1 WhisperValue DC Ventilation Fan, 50-80-100 CFM\\nPanasonic FV-0510VS1 WhisperValue DC Ventilation Fan, 50-80-100 CFM\\nPanasonic\\nWhite\\nNone\\nInstallation: Features a low profile can ideal for residential construction; celiing or wall mount\\nPrecision Spot Ventilation: Quiet and powerful ventilation while removing moisture and pollution\\nPick-A-Flow Speed Selector: Allows you to pick desired airflow from 50, 80, 100 CFM\\nSlimmest Design: With a 3-3/8-Inch housing depth, WhisperValue DC is slimmest design available\\nEnergy Star Rated: Delivers powerful airflow without wasting energy\\nInstallation: Features a low profile can ideal for residential construction; celiing or wall mount\\nPrecision Spot Ventilation: Quiet and powerful ventilation while removing moisture and pollution\\nPick-A-Flow Speed Selector: Allows you to pick desired airflow from 50, 80, 100 CFM\\nSlimmest Design: With a 3-3/8-Inch housing depth, WhisperValue DC is slimmest design available\\nEnergy Star Rated: Delivers powerful airflow without wasting energy'}, vector=None, shard_key=None),\n",
       "  ScoredPoint(id=4, version=0, score=0.7076588242072893, payload={'text': 'Panasonic FV-08VRE2 Ventilation Fan with Recessed LED (Renewed)\\nPanasonic FV-08VRE2 Ventilation Fan with Recessed LED (Renewed)\\nPanasonic\\nWhite\\nNone\\nThe design solution for Fan/light combinations\\nEnergy Star rated architectural grade recessed Fan/LED light\\nQuiet, energy efficient and powerful 80 CFM ventilation hidden above the Ceiling\\nLED lamp is dimmable\\nBeautiful Lighting with 6-1/2”aperture and advanced luminaire design\\nThe design solution for Fan/light combinations\\nEnergy Star rated architectural grade recessed Fan/LED light\\nQuiet, energy efficient and powerful 80 CFM ventilation hidden above the Ceiling\\nLED lamp is dimmable\\nBeautiful Lighting with 6-1/2”aperture and advanced luminaire design'}, vector=None, shard_key=None),\n",
       "  ScoredPoint(id=6, version=0, score=0.7005667734073653, payload={'text': 'Panasonic FV-0510VSL1 WhisperValue DC Ventilation Fan with Light, 50-80-100 CFM\\nPanasonic FV-0510VSL1 WhisperValue DC Ventilation Fan with Light, 50-80-100 CFM\\nPanasonic\\nWhite\\nNone\\nInstallation: Features a low profile can ideal for residential construction; celiing or wall mount\\nArchitectural Design: Architectural grade light fixture that gives powerful, yet quiet ventilation\\nPick-A-Flow Speed Selector: Allows you to pick desired airflow from 50, 80, 100 CFM\\nSlimmest Design: With a 3-3/8-Inch housing depth, WhisperValue DC is slimmest design available\\nEnergy Star Rated: Delivers powerful airflow without wasting energy\\nInstallation: Features a low profile can ideal for residential construction; celiing or wall mount\\nArchitectural Design: Architectural grade light fixture that gives powerful, yet quiet ventilation\\nPick-A-Flow Speed Selector: Allows you to pick desired airflow from 50, 80, 100 CFM\\nSlimmest Design: With a 3-3/8-Inch housing depth, WhisperValue DC is slimmest design available\\nEnergy Star Rated: Delivers powerful airflow without wasting energy'}, vector=None, shard_key=None),\n",
       "  ScoredPoint(id=5, version=0, score=0.6900119765792, payload={'text': 'Panasonic FV-0511VQ1 WhisperCeiling DC Ventilation Fan, Speed Selector, SmartFlow Technology, Quiet,White\\nPanasonic FV-0511VQ1 WhisperCeiling DC Ventilation Fan, Speed Selector, SmartFlow Technology, Quiet,White\\nPanasonic\\nWhite\\nNone\\nInstallation: Features a 4-inch or 6-inch duct adaptor ideal for new construction and renovations\\nPrecision Spot Ventilation: Quiet and powerful ventilation while removing moisture and pollution\\nPick-A-Flow Speed Selector: Allows you to pick desired airflow from 50, 80, 110 CFM\\nFlexible Installation: Comes with Flex-Z Fast bracket for easy, fast and trouble-free installation\\nEnergy Star Rated: Delivers powerful airflow without wasting energy\\nInstallation: Features a 4-inch or 6-inch duct adaptor ideal for new construction and renovations\\nPrecision Spot Ventilation: Quiet and powerful ventilation while removing moisture and pollution\\nPick-A-Flow Speed Selector: Allows you to pick desired airflow from 50, 80, 110 CFM\\nFlexible Installation: Comes with Flex-Z Fast bracket for easy, fast and trouble-free installation\\nEnergy Star Rated: Delivers powerful airflow without wasting energy'}, vector=None, shard_key=None),\n",
       "  ScoredPoint(id=9, version=0, score=0.6695256112486503, payload={'text': \"Delta Electronics (Americas) Ltd. RAD80 Delta BreezRadiance Series 80 CFM Fan with Heater, 10.5W, 1.5 Sones\\nDelta Electronics (Americas) Ltd. RAD80 Delta BreezRadiance Series 80 CFM Fan with Heater, 10.5W, 1.5 Sones\\nDELTA ELECTRONICS (AMERICAS) LTD.\\nWith Heater\\nNone\\nQuiet operation at 1.5 Sones\\nPrecision engineered with DC brushless motor for extended reliability, this Fan will outlast many household appliances\\nGalvanized steel construction resists corrosion, equipped with metal duct adapter\\nFan impeller Stops If obstructed, for safe worry-free operation\\nPeace of mind quality, performance and reliability from the world's largest DC brushless Fan Manufacturer\\nQuiet operation at 1.5 Sones\\nPrecision engineered with DC brushless motor for extended reliability, this Fan will outlast many household appliances\\nGalvanized steel construction resists corrosion, equipped with metal duct adapter\\nFan impeller Stops If obstructed, for safe worry-free operation\\nPeace of mind quality, performance and reliability from the world's largest DC brushless Fan Manufacturer\"}, vector=None, shard_key=None),\n",
       "  ScoredPoint(id=1, version=0, score=0.6501192046745539, payload={'text': \"Homewerks 7141-80 Bathroom Fan Integrated LED Light Ceiling Mount Exhaust Ventilation, 1.1 Sones, 80 CFM\\nHomewerks 7141-80 Bathroom Fan Integrated LED Light Ceiling Mount Exhaust Ventilation, 1.1 Sones, 80 CFM\\nHomewerks\\n80 CFM\\nNone\\nOUTSTANDING PERFORMANCE: This Homewerk's bath fan ensures comfort in your home by quietly eliminating moisture and humidity in the bathroom. This exhaust fan is 1.1 sones at 80 CFM which means it’s able to manage spaces up to 80 square feet and is very quiet..\\nBATH FANS HELPS REMOVE HARSH ODOR: When cleaning the bathroom or toilet, harsh chemicals are used and they can leave an obnoxious odor behind. Homewerk’s bathroom fans can help remove this odor with its powerful ventilation\\nBUILD QUALITY: Designed to be corrosion resistant with its galvanized steel construction featuring a modern style round shape and has an 4000K Cool White Light LED Light. AC motor.\\nEASY INSTALLATION: This exhaust bath fan is easy to install with its no-cut design and ceiling mount ventilation. Ceiling Opening (L) 7-1/2 in x Ceiling Opening (W) 7-1/4 x Ceiling Opening (H) 5-3/4 in. 13 in round grill and 4 in round duct connector.\\nHOMEWERKS TRUSTED QUALITY: Be confident in the quality and construction of each and every one of our products. We ensure that all of our products are produced and certified to regional, national and international industry standards. We are proud of the products we sell, you will be too. 3 Year Limited\\nOUTSTANDING PERFORMANCE: This Homewerk's bath fan ensures comfort in your home by quietly eliminating moisture and humidity in the bathroom. This exhaust fan is 1.1 sones at 80 CFM which means it’s able to manage spaces up to 80 square feet and is very quiet..\\nBATH FANS HELPS REMOVE HARSH ODOR: When cleaning the bathroom or toilet, harsh chemicals are used and they can leave an obnoxious odor behind. Homewerk’s bathroom fans can help remove this odor with its powerful ventilation\\nBUILD QUALITY: Designed to be corrosion resistant with its galvanized steel construction featuring a modern style round shape and has an 4000K Cool White Light LED Light. AC motor.\\nEASY INSTALLATION: This exhaust bath fan is easy to install with its no-cut design and ceiling mount ventilation. Ceiling Opening (L) 7-1/2 in x Ceiling Opening (W) 7-1/4 x Ceiling Opening (H) 5-3/4 in. 13 in round grill and 4 in round duct connector.\\nHOMEWERKS TRUSTED QUALITY: Be confident in the quality and construction of each and every one of our products. We ensure that all of our products are produced and certified to regional, national and international industry standards. We are proud of the products we sell, you will be too. 3 Year Limited\"}, vector=None, shard_key=None),\n",
       "  ScoredPoint(id=3, version=0, score=0.6466917604403921, payload={'text': 'Delta Electronics RAD80L BreezRadiance 80 CFM Heater/Fan/Light Combo White (Renewed)\\nDelta Electronics RAD80L BreezRadiance 80 CFM Heater/Fan/Light Combo White (Renewed)\\nDELTA ELECTRONICS (AMERICAS) LTD.\\nWhite\\nThis pre-owned or refurbished product has been professionally inspected and tested to work and look like new. How a product becomes part of Amazon Renewed, your destination for pre-owned, refurbished products: A customer buys a new product and returns it or trades it in for a newer or different model. That product is inspected and tested to work and look like new by Amazon-qualified suppliers. Then, the product is sold as an Amazon Renewed product on Amazon. If not satisfied with the purchase, renewed products are eligible for replacement or refund under the Amazon Renewed Guarantee.\\nQuiet operation at 1.5 sones\\nBuilt-in thermostat regulates temperature. Energy efficiency at 7.6 CFM/Watt\\nPrecision engineered with DC brushless motor for extended reliability, this fan will outlast many household appliances\\nGalvanized steel construction resists corrosion\\nDuct: Detachable 4-inch Plastic Duct Adapter\\nQuiet operation at 1.5 sones\\nBuilt-in thermostat regulates temperature. Energy efficiency at 7.6 CFM/Watt\\nPrecision engineered with DC brushless motor for extended reliability, this fan will outlast many household appliances\\nGalvanized steel construction resists corrosion\\nDuct: Detachable 4-inch Plastic Duct Adapter'}, vector=None, shard_key=None),\n",
       "  ScoredPoint(id=2, version=0, score=0.6462960006277003, payload={'text': 'Homewerks 7140-80 Bathroom Fan Ceiling Mount Exhaust Ventilation, 1.5 Sones, 80 CFM, White\\nHomewerks 7140-80 Bathroom Fan Ceiling Mount Exhaust Ventilation, 1.5 Sones, 80 CFM, White\\nHomewerks\\nWhite\\nNone\\nOUTSTANDING PERFORMANCE: This Homewerk\\'s bath fan ensures comfort in your home by quietly eliminating moisture and humidity in the bathroom. This exhaust fan is 1. 5 sone at 110 CFM which means it’s able to manage spaces up to 110 square feet\\nBATH FANS HELPS REMOVE HARSH ODOR: When cleaning the bathroom or toilet, harsh chemicals are used and they can leave an obnoxious odor behind. Homewerk’s bathroom fans can help remove this odor with its powerful ventilation\\nBUILD QUALITY: Designed to be corrosion resistant with its galvanized steel construction featuring a grille modern style.\\nEASY INSTALLATION: This exhaust bath fan is easy to install with its no-cut design and ceiling mount ventilation. Ceiling Opening (L) 7-1/2 in x Ceiling Opening (W) 7-1/4 x Ceiling Opening (H) 5-3/4 in and a 4\" round duct connector.\\nHOMEWERKS TRUSTED QUALITY: Be confident in the quality and construction of each and every one of our products. We ensure that all of our products are produced and certified to regional, national and international industry standards. We are proud of the products we sell, you will be too. 3 Year Limited\\nOUTSTANDING PERFORMANCE: This Homewerk\\'s bath fan ensures comfort in your home by quietly eliminating moisture and humidity in the bathroom. This exhaust fan is 1. 5 sone at 110 CFM which means it’s able to manage spaces up to 110 square feet\\nBATH FANS HELPS REMOVE HARSH ODOR: When cleaning the bathroom or toilet, harsh chemicals are used and they can leave an obnoxious odor behind. Homewerk’s bathroom fans can help remove this odor with its powerful ventilation\\nBUILD QUALITY: Designed to be corrosion resistant with its galvanized steel construction featuring a grille modern style.\\nEASY INSTALLATION: This exhaust bath fan is easy to install with its no-cut design and ceiling mount ventilation. Ceiling Opening (L) 7-1/2 in x Ceiling Opening (W) 7-1/4 x Ceiling Opening (H) 5-3/4 in and a 4\" round duct connector.\\nHOMEWERKS TRUSTED QUALITY: Be confident in the quality and construction of each and every one of our products. We ensure that all of our products are produced and certified to regional, national and international industry standards. We are proud of the products we sell, you will be too. 3 Year Limited'}, vector=None, shard_key=None)],\n",
       " [ScoredPoint(id=0, version=0, score=22.959232330322266, payload={'text': 'Panasonic FV-20VQ3 WhisperCeiling 190 CFM Ceiling Mounted Fan\\nPanasonic FV-20VQ3 WhisperCeiling 190 CFM Ceiling Mounted Fan\\nPanasonic\\nWhite\\nNone\\nWhisperCeiling fans feature a totally enclosed condenser motor and a double-tapered, dolphin-shaped bladed blower wheel to quietly move air\\nDesigned to give you continuous, trouble-free operation for many years thanks in part to its high-quality components and permanently lubricated motors which wear at a slower pace\\nDetachable adaptors, firmly secured duct ends, adjustable mounting brackets (up to 26-in), fan/motor units that detach easily from the housing and uncomplicated wiring all lend themselves to user-friendly installation\\nThis Panasonic fan has a built-in damper to prevent backdraft, which helps to prevent outside air from coming through the fan\\n0.35 amp\\nWhisperCeiling fans feature a totally enclosed condenser motor and a double-tapered, dolphin-shaped bladed blower wheel to quietly move air\\nDesigned to give you continuous, trouble-free operation for many years thanks in part to its high-quality components and permanently lubricated motors which wear at a slower pace\\nDetachable adaptors, firmly secured duct ends, adjustable mounting brackets (up to 26-in), fan/motor units that detach easily from the housing and uncomplicated wiring all lend themselves to user-friendly installation\\nThis Panasonic fan has a built-in damper to prevent backdraft, which helps to prevent outside air from coming through the fan\\n0.35 amp'}, vector=None, shard_key=None),\n",
       "  ScoredPoint(id=5, version=0, score=20.864572525024414, payload={'text': 'Panasonic FV-0511VQ1 WhisperCeiling DC Ventilation Fan, Speed Selector, SmartFlow Technology, Quiet,White\\nPanasonic FV-0511VQ1 WhisperCeiling DC Ventilation Fan, Speed Selector, SmartFlow Technology, Quiet,White\\nPanasonic\\nWhite\\nNone\\nInstallation: Features a 4-inch or 6-inch duct adaptor ideal for new construction and renovations\\nPrecision Spot Ventilation: Quiet and powerful ventilation while removing moisture and pollution\\nPick-A-Flow Speed Selector: Allows you to pick desired airflow from 50, 80, 110 CFM\\nFlexible Installation: Comes with Flex-Z Fast bracket for easy, fast and trouble-free installation\\nEnergy Star Rated: Delivers powerful airflow without wasting energy\\nInstallation: Features a 4-inch or 6-inch duct adaptor ideal for new construction and renovations\\nPrecision Spot Ventilation: Quiet and powerful ventilation while removing moisture and pollution\\nPick-A-Flow Speed Selector: Allows you to pick desired airflow from 50, 80, 110 CFM\\nFlexible Installation: Comes with Flex-Z Fast bracket for easy, fast and trouble-free installation\\nEnergy Star Rated: Delivers powerful airflow without wasting energy'}, vector=None, shard_key=None),\n",
       "  ScoredPoint(id=6, version=0, score=20.659486770629883, payload={'text': 'Panasonic FV-0510VSL1 WhisperValue DC Ventilation Fan with Light, 50-80-100 CFM\\nPanasonic FV-0510VSL1 WhisperValue DC Ventilation Fan with Light, 50-80-100 CFM\\nPanasonic\\nWhite\\nNone\\nInstallation: Features a low profile can ideal for residential construction; celiing or wall mount\\nArchitectural Design: Architectural grade light fixture that gives powerful, yet quiet ventilation\\nPick-A-Flow Speed Selector: Allows you to pick desired airflow from 50, 80, 100 CFM\\nSlimmest Design: With a 3-3/8-Inch housing depth, WhisperValue DC is slimmest design available\\nEnergy Star Rated: Delivers powerful airflow without wasting energy\\nInstallation: Features a low profile can ideal for residential construction; celiing or wall mount\\nArchitectural Design: Architectural grade light fixture that gives powerful, yet quiet ventilation\\nPick-A-Flow Speed Selector: Allows you to pick desired airflow from 50, 80, 100 CFM\\nSlimmest Design: With a 3-3/8-Inch housing depth, WhisperValue DC is slimmest design available\\nEnergy Star Rated: Delivers powerful airflow without wasting energy'}, vector=None, shard_key=None),\n",
       "  ScoredPoint(id=4, version=0, score=20.283283233642578, payload={'text': 'Panasonic FV-08VRE2 Ventilation Fan with Recessed LED (Renewed)\\nPanasonic FV-08VRE2 Ventilation Fan with Recessed LED (Renewed)\\nPanasonic\\nWhite\\nNone\\nThe design solution for Fan/light combinations\\nEnergy Star rated architectural grade recessed Fan/LED light\\nQuiet, energy efficient and powerful 80 CFM ventilation hidden above the Ceiling\\nLED lamp is dimmable\\nBeautiful Lighting with 6-1/2”aperture and advanced luminaire design\\nThe design solution for Fan/light combinations\\nEnergy Star rated architectural grade recessed Fan/LED light\\nQuiet, energy efficient and powerful 80 CFM ventilation hidden above the Ceiling\\nLED lamp is dimmable\\nBeautiful Lighting with 6-1/2”aperture and advanced luminaire design'}, vector=None, shard_key=None),\n",
       "  ScoredPoint(id=7, version=0, score=20.057729721069336, payload={'text': 'Panasonic FV-0510VS1 WhisperValue DC Ventilation Fan, 50-80-100 CFM\\nPanasonic FV-0510VS1 WhisperValue DC Ventilation Fan, 50-80-100 CFM\\nPanasonic\\nWhite\\nNone\\nInstallation: Features a low profile can ideal for residential construction; celiing or wall mount\\nPrecision Spot Ventilation: Quiet and powerful ventilation while removing moisture and pollution\\nPick-A-Flow Speed Selector: Allows you to pick desired airflow from 50, 80, 100 CFM\\nSlimmest Design: With a 3-3/8-Inch housing depth, WhisperValue DC is slimmest design available\\nEnergy Star Rated: Delivers powerful airflow without wasting energy\\nInstallation: Features a low profile can ideal for residential construction; celiing or wall mount\\nPrecision Spot Ventilation: Quiet and powerful ventilation while removing moisture and pollution\\nPick-A-Flow Speed Selector: Allows you to pick desired airflow from 50, 80, 100 CFM\\nSlimmest Design: With a 3-3/8-Inch housing depth, WhisperValue DC is slimmest design available\\nEnergy Star Rated: Delivers powerful airflow without wasting energy'}, vector=None, shard_key=None),\n",
       "  ScoredPoint(id=11, version=0, score=20.000377655029297, payload={'text': 'Panasonic FV-0811VF5 WhisperFit EZ Retrofit Ventilation Fan, 80 or 110 CFM\\nPanasonic FV-0811VF5 WhisperFit EZ Retrofit Ventilation Fan, 80 or 110 CFM\\nPanasonic\\nWhite\\nNone\\nRetrofit Solution: Ideal for residential remodeling, hotel construction or renovations\\nLow Profile: 5-5/8-Inch housing depth fits in a 2 x 6 construction\\nPick-A-Flow Speed Selector: Allows you to pick desired airflow from 80 or 110 CFM\\nFlexible Installation: Comes with Flex-Z Fast bracket for easy, fast and trouble-free installation\\nEnergy Star Rated: Delivers powerful airflow without wasting energy\\nRetrofit Solution: Ideal for residential remodeling, hotel construction or renovations\\nLow Profile: 5-5/8-Inch housing depth fits in a 2 x 6 construction\\nPick-A-Flow Speed Selector: Allows you to pick desired airflow from 80 or 110 CFM\\nFlexible Installation: Comes with Flex-Z Fast bracket for easy, fast and trouble-free installation\\nEnergy Star Rated: Delivers powerful airflow without wasting energy'}, vector=None, shard_key=None),\n",
       "  ScoredPoint(id=9, version=0, score=8.690065383911133, payload={'text': \"Delta Electronics (Americas) Ltd. RAD80 Delta BreezRadiance Series 80 CFM Fan with Heater, 10.5W, 1.5 Sones\\nDelta Electronics (Americas) Ltd. RAD80 Delta BreezRadiance Series 80 CFM Fan with Heater, 10.5W, 1.5 Sones\\nDELTA ELECTRONICS (AMERICAS) LTD.\\nWith Heater\\nNone\\nQuiet operation at 1.5 Sones\\nPrecision engineered with DC brushless motor for extended reliability, this Fan will outlast many household appliances\\nGalvanized steel construction resists corrosion, equipped with metal duct adapter\\nFan impeller Stops If obstructed, for safe worry-free operation\\nPeace of mind quality, performance and reliability from the world's largest DC brushless Fan Manufacturer\\nQuiet operation at 1.5 Sones\\nPrecision engineered with DC brushless motor for extended reliability, this Fan will outlast many household appliances\\nGalvanized steel construction resists corrosion, equipped with metal duct adapter\\nFan impeller Stops If obstructed, for safe worry-free operation\\nPeace of mind quality, performance and reliability from the world's largest DC brushless Fan Manufacturer\"}, vector=None, shard_key=None),\n",
       "  ScoredPoint(id=2, version=0, score=8.60843563079834, payload={'text': 'Homewerks 7140-80 Bathroom Fan Ceiling Mount Exhaust Ventilation, 1.5 Sones, 80 CFM, White\\nHomewerks 7140-80 Bathroom Fan Ceiling Mount Exhaust Ventilation, 1.5 Sones, 80 CFM, White\\nHomewerks\\nWhite\\nNone\\nOUTSTANDING PERFORMANCE: This Homewerk\\'s bath fan ensures comfort in your home by quietly eliminating moisture and humidity in the bathroom. This exhaust fan is 1. 5 sone at 110 CFM which means it’s able to manage spaces up to 110 square feet\\nBATH FANS HELPS REMOVE HARSH ODOR: When cleaning the bathroom or toilet, harsh chemicals are used and they can leave an obnoxious odor behind. Homewerk’s bathroom fans can help remove this odor with its powerful ventilation\\nBUILD QUALITY: Designed to be corrosion resistant with its galvanized steel construction featuring a grille modern style.\\nEASY INSTALLATION: This exhaust bath fan is easy to install with its no-cut design and ceiling mount ventilation. Ceiling Opening (L) 7-1/2 in x Ceiling Opening (W) 7-1/4 x Ceiling Opening (H) 5-3/4 in and a 4\" round duct connector.\\nHOMEWERKS TRUSTED QUALITY: Be confident in the quality and construction of each and every one of our products. We ensure that all of our products are produced and certified to regional, national and international industry standards. We are proud of the products we sell, you will be too. 3 Year Limited\\nOUTSTANDING PERFORMANCE: This Homewerk\\'s bath fan ensures comfort in your home by quietly eliminating moisture and humidity in the bathroom. This exhaust fan is 1. 5 sone at 110 CFM which means it’s able to manage spaces up to 110 square feet\\nBATH FANS HELPS REMOVE HARSH ODOR: When cleaning the bathroom or toilet, harsh chemicals are used and they can leave an obnoxious odor behind. Homewerk’s bathroom fans can help remove this odor with its powerful ventilation\\nBUILD QUALITY: Designed to be corrosion resistant with its galvanized steel construction featuring a grille modern style.\\nEASY INSTALLATION: This exhaust bath fan is easy to install with its no-cut design and ceiling mount ventilation. Ceiling Opening (L) 7-1/2 in x Ceiling Opening (W) 7-1/4 x Ceiling Opening (H) 5-3/4 in and a 4\" round duct connector.\\nHOMEWERKS TRUSTED QUALITY: Be confident in the quality and construction of each and every one of our products. We ensure that all of our products are produced and certified to regional, national and international industry standards. We are proud of the products we sell, you will be too. 3 Year Limited'}, vector=None, shard_key=None),\n",
       "  ScoredPoint(id=1, version=0, score=8.450508117675781, payload={'text': \"Homewerks 7141-80 Bathroom Fan Integrated LED Light Ceiling Mount Exhaust Ventilation, 1.1 Sones, 80 CFM\\nHomewerks 7141-80 Bathroom Fan Integrated LED Light Ceiling Mount Exhaust Ventilation, 1.1 Sones, 80 CFM\\nHomewerks\\n80 CFM\\nNone\\nOUTSTANDING PERFORMANCE: This Homewerk's bath fan ensures comfort in your home by quietly eliminating moisture and humidity in the bathroom. This exhaust fan is 1.1 sones at 80 CFM which means it’s able to manage spaces up to 80 square feet and is very quiet..\\nBATH FANS HELPS REMOVE HARSH ODOR: When cleaning the bathroom or toilet, harsh chemicals are used and they can leave an obnoxious odor behind. Homewerk’s bathroom fans can help remove this odor with its powerful ventilation\\nBUILD QUALITY: Designed to be corrosion resistant with its galvanized steel construction featuring a modern style round shape and has an 4000K Cool White Light LED Light. AC motor.\\nEASY INSTALLATION: This exhaust bath fan is easy to install with its no-cut design and ceiling mount ventilation. Ceiling Opening (L) 7-1/2 in x Ceiling Opening (W) 7-1/4 x Ceiling Opening (H) 5-3/4 in. 13 in round grill and 4 in round duct connector.\\nHOMEWERKS TRUSTED QUALITY: Be confident in the quality and construction of each and every one of our products. We ensure that all of our products are produced and certified to regional, national and international industry standards. We are proud of the products we sell, you will be too. 3 Year Limited\\nOUTSTANDING PERFORMANCE: This Homewerk's bath fan ensures comfort in your home by quietly eliminating moisture and humidity in the bathroom. This exhaust fan is 1.1 sones at 80 CFM which means it’s able to manage spaces up to 80 square feet and is very quiet..\\nBATH FANS HELPS REMOVE HARSH ODOR: When cleaning the bathroom or toilet, harsh chemicals are used and they can leave an obnoxious odor behind. Homewerk’s bathroom fans can help remove this odor with its powerful ventilation\\nBUILD QUALITY: Designed to be corrosion resistant with its galvanized steel construction featuring a modern style round shape and has an 4000K Cool White Light LED Light. AC motor.\\nEASY INSTALLATION: This exhaust bath fan is easy to install with its no-cut design and ceiling mount ventilation. Ceiling Opening (L) 7-1/2 in x Ceiling Opening (W) 7-1/4 x Ceiling Opening (H) 5-3/4 in. 13 in round grill and 4 in round duct connector.\\nHOMEWERKS TRUSTED QUALITY: Be confident in the quality and construction of each and every one of our products. We ensure that all of our products are produced and certified to regional, national and international industry standards. We are proud of the products we sell, you will be too. 3 Year Limited\"}, vector=None, shard_key=None),\n",
       "  ScoredPoint(id=14, version=0, score=8.03786563873291, payload={'text': 'Broan Very Quiet Ceiling Bathroom Exhaust Fan, ENERGY STAR Certified, 0.3 Sones, 80 CFM\\nBroan Very Quiet Ceiling Bathroom Exhaust Fan, ENERGY STAR Certified, 0.3 Sones, 80 CFM\\nBroan-NuTone\\nWhite\\nNone\\nHIGH-QUALITY FAN: Very quiet, energy efficient exhaust fan runs on 0. 3 Sones and is motor engineered for continuous operation\\nEFFICIENT: Operates at 80 CFM in bathrooms up to 75 sq. ft. for a high-quality performance. Dimmable Capability: Non Dimmable\\nEASY INSTALLATION: Fan is easy to install and/or replace existing product for DIY\\'ers and needs only 2\" x 8\" construction space. Can be used over bathtubs or showers when connected to a GFCI protected branch circuit\\nFEATURES: Includes hanger bar system for fast, flexible installation for all types of construction and a 6\" ducting for superior performance\\nCERTIFIED: ENERGY STAR qualified and HVI Certified to ensure the best quality for your home\\nHIGH-QUALITY FAN: Very quiet, energy efficient exhaust fan runs on 0. 3 Sones and is motor engineered for continuous operation\\nEFFICIENT: Operates at 80 CFM in bathrooms up to 75 sq. ft. for a high-quality performance. Dimmable Capability: Non Dimmable\\nEASY INSTALLATION: Fan is easy to install and/or replace existing product for DIY\\'ers and needs only 2\" x 8\" construction space. Can be used over bathtubs or showers when connected to a GFCI protected branch circuit\\nFEATURES: Includes hanger bar system for fast, flexible installation for all types of construction and a 6\" ducting for superior performance\\nCERTIFIED: ENERGY STAR qualified and HVI Certified to ensure the best quality for your home'}, vector=None, shard_key=None)]]"
      ]
     },
     "execution_count": 24,
     "metadata": {},
     "output_type": "execute_result"
    }
   ],
   "source": [
    "query_text = \"panasonic fans\"\n",
    "\n",
    "# # Compute sparse and dense vectors\n",
    "query_sparse_vectors: List[SparseEmbedding] = make_sparse_embedding(query_text)\n",
    "query_dense_vector: List[np.ndarray] = make_dense_embedding(query_text)\n",
    "\n",
    "client.search_batch(\n",
    "    collection_name=collection_name,\n",
    "    requests=[\n",
    "        SearchRequest(\n",
    "            vector=NamedVector(\n",
    "                name=\"text-dense\",\n",
    "                vector=query_dense_vector[0],\n",
    "            ),\n",
    "            limit=10,\n",
    "            with_payload=True,\n",
    "        ),\n",
    "        SearchRequest(\n",
    "            vector=NamedSparseVector(\n",
    "                name=\"text-sparse\",\n",
    "                vector=SparseVector(\n",
    "                    indices=query_sparse_vectors[0].indices.tolist(),\n",
    "                    values=query_sparse_vectors[0].values.tolist(),\n",
    "                ),\n",
    "            ),\n",
    "            limit=10,\n",
    "            with_payload=True,\n",
    "        ),\n",
    "    ],\n",
    ")"
   ]
  },
  {
   "cell_type": "code",
   "execution_count": null,
   "metadata": {},
   "outputs": [],
   "source": []
  }
 ],
 "metadata": {
  "kernelspec": {
   "display_name": "fst",
   "language": "python",
   "name": "python3"
  },
  "language_info": {
   "codemirror_mode": {
    "name": "ipython",
    "version": 3
   },
   "file_extension": ".py",
   "mimetype": "text/x-python",
   "name": "python",
   "nbconvert_exporter": "python",
   "pygments_lexer": "ipython3",
   "version": "3.10.13"
  }
 },
 "nbformat": 4,
 "nbformat_minor": 2
}
